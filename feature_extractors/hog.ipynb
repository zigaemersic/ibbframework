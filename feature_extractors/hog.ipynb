{
 "cells": [
  {
   "cell_type": "markdown",
   "id": "dd927bfd-2dae-44ae-a940-0c6c1d13e97a",
   "metadata": {},
   "source": [
    "This notebook is devoted to a template for HOG algorithm. After the template implementation, there is also one working example how to use the template. In this example, you can also change the used parameters."
   ]
  },
  {
   "cell_type": "markdown",
   "id": "087c416f-99a4-4996-b7ad-14d64fba60fc",
   "metadata": {},
   "source": [
    "For this template, you can specify three function. They have to follow some rules though:\n",
    "  - get_directions_and_magnitudes takes an image and k_size, it is expected to count the directions and magnitues of gradients in the image. For each pixel, it is expect to count them using k_size as a neighborhood size and return these two as a tuple. The return value is completely up to you though, just keep in mind that the output shall be used as an input for directions_and_magnitudes_to_cells\n",
    "  - directions_and_magnitudes_to_cells takes the result of get_directions_and_magnitudes and k_size as an input. It is expected to split the result into cells of k_size. The output of this function should be a tuple of two - cells of directions and magnitudes. Based on these, the final histogram shall be counted.\n",
    "  - get_histogram takes a direction_cell, magnitude_cell, hist_bins and should count a histogram (or any other descriptor) for this cell. For the sake of histogram, it takes also hist_bins so it can be specified how big is the histogram suppopsed to be."
   ]
  },
  {
   "cell_type": "markdown",
   "id": "9b18c108-2b8c-484d-a7ff-6af423b50401",
   "metadata": {},
   "source": [
    "Specify your functions using codes passed to the class constructor"
   ]
  },
  {
   "cell_type": "code",
   "execution_count": 6,
   "id": "e97dfab4-cee9-4a24-87b8-e4b9a52a6e62",
   "metadata": {},
   "outputs": [],
   "source": [
    "from collections.abc import Callable\n",
    "import numpy as np\n",
    "import cv2\n",
    "\n",
    "class HOG:\n",
    "    \n",
    "    def __init__(self, \n",
    "                get_directions_and_magnitudes_code: int,\n",
    "                directions_and_magnitudes_to_cells_code: int,\n",
    "                get_histogram_code: int\n",
    "                ):\n",
    "        self._get_directions_and_magnitudes_code = get_directions_and_magnitudes_code\n",
    "        self._directions_and_magnitudes_to_cells_code = directions_and_magnitudes_to_cells_code\n",
    "        self._get_histogram_code = get_histogram_code        \n",
    "    \n",
    "    def get_feature_vector(self, image: np.ndarray, cell_size: int=8, hist_bins: int=9, k_size: int=3) -> np.ndarray:\n",
    "        \n",
    "        # get directions and magnitues from the image using your provided fucntion\n",
    "        processed_dir_and_mag = self._get_directions_and_magnitudes(image, k_size)\n",
    "        # split the result of your processing to the cells, the expected output are different cells for directions and magnitudes\n",
    "        direction_cells, magnitude_cells = self._directions_and_magnitudes_to_cells(processed_dir_and_mag, cell_size)\n",
    "        \n",
    "        hists = []\n",
    "        for cell_i in range(len(direction_cells)):\n",
    "            hists.append(self._get_histogram(direction_cells[cell_i], magnitude_cells[cell_i], hist_bins))\n",
    "        \n",
    "        return np.array(hists).flatten()\n",
    "        \n",
    "        \n",
    "    def _get_directions_and_magnitudes(self, image, k_size):\n",
    "        \"\"\" Based on the provided code, this method calls coresponding function \"\"\"\n",
    "        def get_directions_and_magnitudes():\n",
    "            # Calculate the gradient in the x-direction\n",
    "            sobel_x = cv2.Sobel(image, cv2.CV_64F, 1, 0, ksize=k_size)\n",
    "\n",
    "            # Calculate the gradient in the y-direction\n",
    "            sobel_y = cv2.Sobel(image, cv2.CV_64F, 0, 1, ksize=k_size)\n",
    "\n",
    "            # Calculate the magnitude of the gradient\n",
    "            magnitudes = np.sqrt(sobel_x ** 2 + sobel_y ** 2)\n",
    "\n",
    "            # Calculate the direction of the gradient\n",
    "            directions = np.arctan2(sobel_y, sobel_x)\n",
    "\n",
    "            return directions, magnitudes\n",
    "        \n",
    "        if self._get_directions_and_magnitudes_code == 1:\n",
    "            return get_directions_and_magnitudes()\n",
    "        else:\n",
    "            raise Exception(\"Wrong code provided for _get_directions_and_magnitudes_code\")\n",
    "    \n",
    "    def _directions_and_magnitudes_to_cells(self, processed_dir_and_mag, cell_size):\n",
    "        \"\"\" Based on the provided code, this method calls coresponding function \"\"\"\n",
    "\n",
    "        def directions_and_magnitudes_to_cells():\n",
    "            directions, magnitudes = processed_dir_and_mag\n",
    "            direction_cells = []\n",
    "            magnitude_cells = []\n",
    "\n",
    "            for i in range(0, directions.shape[0], cell_size):\n",
    "                for j in range(0, directions.shape[1], cell_size):\n",
    "                    direction_cells.append(directions[i:i + cell_size, j:j + cell_size])\n",
    "                    magnitude_cells.append(magnitudes[i:i + cell_size, j:j + cell_size])\n",
    "\n",
    "            return direction_cells, magnitude_cells\n",
    "        \n",
    "        if self._directions_and_magnitudes_to_cells_code == 1:\n",
    "            return directions_and_magnitudes_to_cells()\n",
    "        else:\n",
    "            raise Exception(\"Wrong code provided for _directions_and_magnitudes_to_cells_code\")\n",
    "            \n",
    "    def _get_histogram(self, directions, magnitudes, hist_bins):\n",
    "        \"\"\" Based on the provided code, this method calls coresponding function \"\"\"\n",
    "        def get_histogram():\n",
    "            hist = np.zeros(hist_bins)\n",
    "\n",
    "            # get histogram based on directions and magnitudes\n",
    "            for i in range(directions.shape[0]):\n",
    "                for j in range(directions.shape[1]):\n",
    "                    # get bin\n",
    "                    bin = int(directions[i][j] / (2 * np.pi) * hist_bins)\n",
    "\n",
    "                    # add magnitude to bin\n",
    "                    hist[bin] += magnitudes[i][j]\n",
    "\n",
    "            return hist\n",
    "                  \n",
    "        if self._get_histogram_code == 1:\n",
    "            return get_histogram()\n",
    "        else:\n",
    "            raise Exception(\"Wrong code provided for get_histogram_code\")\n",
    "            "
   ]
  },
  {
   "cell_type": "code",
   "execution_count": 7,
   "id": "ba9d3931-be5d-4613-9442-890e487c8e44",
   "metadata": {},
   "outputs": [
    {
     "data": {
      "text/plain": [
       "array([132.6983826 ,  71.75583961,  38.55260241, ...,   0.        ,\n",
       "         8.        ,   0.        ])"
      ]
     },
     "execution_count": 7,
     "metadata": {},
     "output_type": "execute_result"
    }
   ],
   "source": [
    "from PIL import Image\n",
    "\n",
    "hog = HOG(1, 1, 1)\n",
    "# load image and convert it to gray scale and a shape 128x128 \n",
    "img = Image.open(\"test_img.png\").convert('L')\n",
    "img = np.array(img)\n",
    "\n",
    "hog.get_feature_vector(img)"
   ]
  }
 ],
 "metadata": {
  "kernelspec": {
   "display_name": "Python 3",
   "language": "python",
   "name": "python3"
  },
  "language_info": {
   "codemirror_mode": {
    "name": "ipython",
    "version": 3
   },
   "file_extension": ".py",
   "mimetype": "text/x-python",
   "name": "python",
   "nbconvert_exporter": "python",
   "pygments_lexer": "ipython3",
   "version": "3.8.8"
  }
 },
 "nbformat": 4,
 "nbformat_minor": 5
}
