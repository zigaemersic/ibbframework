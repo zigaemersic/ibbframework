{
 "cells": [
  {
   "cell_type": "markdown",
   "id": "6dff703f-1c8e-4d9c-ab87-75d6e61a5667",
   "metadata": {},
   "source": [
    "The class LBP implemented bellow is a template for the LBP algorithm.\n",
    "\n",
    "The constructor takes 3 parameters - neighbor_collection, pixel_description, descriptors_final_processing. All of these parameters are callable function which shall be used to perfrom the feature extraction for and Image.\n",
    "\n",
    "The LBP class has one public method - get_feature_vector, which returns the feature vector based on provided arguments:\n",
    "  - image - 2D numpy array of ints representing the image\n",
    "  \n",
    "You can pass your own functions as this parameters, you just need to make sure that their interfaces enable mutual interaction:\n",
    "  - output of neighbor_collection will be used as an input for pixel_description\n",
    "  - output of pixel_description will be added to 2D list representing the image description - this 2D list will then be passed to descriptors_final_processing\n",
    "  - descriptors_final_processing is returned from the get_feature_vector method, so the provided function should return a 1D numpy array\n",
    "  \n",
    "Please note that for the functions used only in the LBP template we are leaving their API on you, so you are not limited by our expectations. Only limitations is that the descriptors_final_processing has to return a 1D numpy array.\n",
    "\n",
    "Check the cells bellow to see examples of the usage."
   ]
  },
  {
   "cell_type": "code",
   "execution_count": 1,
   "id": "b83b9503-be66-425c-84da-67c452c26120",
   "metadata": {},
   "outputs": [],
   "source": [
    "import numpy as np\n",
    "from collections.abc import Callable\n",
    "from typing import List\n",
    "\n",
    "class LBP:\n",
    "    \n",
    "    def __init__(self, \n",
    "                neighbor_collection: Callable,\n",
    "                pixel_description: Callable,\n",
    "                descriptors_final_processing: Callable,\n",
    "                ):\n",
    "        self._neighbor_collection = neighbor_collection\n",
    "        self._pixel_description = pixel_description\n",
    "        self._descriptors_final_processing = descriptors_final_processing\n",
    "        \n",
    "    def get_feature_vector(self, image: np.ndarray, radius: int, overlaps: int) -> np.ndarray:\n",
    "        # check the provided image type\n",
    "        if image.dtype != np.uint8 or image.ndim != 2:\n",
    "            raise ValueError(f'Invalid image shape or type, you provided me with type {image.dtype} and dim {image.ndim} ')\n",
    "            \n",
    "        # iteration step is based on the radius of the field that should be covered and a demanded overlap\n",
    "        iteration_step = 2 * radius + 1 - overlaps\n",
    "        \n",
    "        # checks that the iteration step is not negative, so there will not be an infinite loop\n",
    "        assert(2 * radius + 1 - overlaps > 0)\n",
    "        \n",
    "        # todo preprocess image? For example adding a padding so all the pixels can have a descriptor or smth like that\n",
    "        descriptor_2D = self._get_descriptor_2D(image, radius, iteration_step)\n",
    "        \n",
    "        # processes the final, could simply flatten the descriptor, or can\n",
    "        # perform more complicated operations like histogram counting etc.\n",
    "        return self._descriptors_final_processing(descriptor_2D)\n",
    "    \n",
    "    def _get_descriptor_2D(self, image: np.ndarray, radius: int, iteration_step: int) -> List[List[int]]:\n",
    "        if image.dtype != np.uint8 or image.ndim != 2:\n",
    "            raise ValueError(f'Invalid image shape or type, you provided me with type {image.dtype} and dim {image.ndim} ')\n",
    "        # we will iterate over the image and prepare a 2D list of descriptors for each available pixel\n",
    "        descriptor = []\n",
    "        for row in range(radius, image.shape[0] - radius, iteration_step):\n",
    "            descriptor.append([])\n",
    "            for col in range(radius, image.shape[1] - radius, iteration_step):\n",
    "                \n",
    "                # handles computing of a descriptor for a given pixel\n",
    "                pixel_descriptor = self._get_pixel_descriptor(image, row, col, radius)\n",
    "                descriptor[-1].append(pixel_descriptor)\n",
    "        \n",
    "        return descriptor\n",
    "    \n",
    "    def _get_pixel_descriptor(self, image: np.ndarray, row: int, col: int, radius: int):\n",
    "        if image.dtype != np.uint8 or image.ndim != 2:\n",
    "            raise ValueError(f'Invalid image shape or type, you provided me with type {image.dtype} and dim {image.ndim} ')\n",
    "        # using provided function, extract the neighbors needed for a descriptor counting at a given pixel\n",
    "        indexes_to_visit = self._neighbor_collection(row, col, radius)\n",
    "        \n",
    "        # using provided function, calculate the descriptor of a given pixel\n",
    "        return self._pixel_description(image, indexes_to_visit, row, col)\n",
    "                "
   ]
  },
  {
   "cell_type": "markdown",
   "id": "df48c70d-7c43-470d-95d3-ee4fe9fced0a",
   "metadata": {},
   "source": [
    "Check the cells bellow to see one possible implemntation of LBP functions."
   ]
  },
  {
   "cell_type": "code",
   "execution_count": 2,
   "id": "87621d26-4bd0-4a6e-889e-bd8cedbc8bf0",
   "metadata": {},
   "outputs": [],
   "source": [
    "def neighbor_collection_full_square(row, col, radius):\n",
    "    \"\"\" \n",
    "    Returns indexes around [row, col] pixel based on radius. The square around is defined by the central pixel [row, col] \n",
    "    and a radius - the closest point on the border of the square is exactly radius far from the central pixel - [row, col]\n",
    "    \"\"\"\n",
    "    indexes_to_visit = set()\n",
    "    for r in range(radius + 1):\n",
    "        for c in range(radius + 1):\n",
    "            if r == 0 and c == 0: # ignore the central pixel\n",
    "                continue\n",
    "            new_indexes_to_visit = {(row + r, col + c), (row + r, col - c), (row - r, col + c), (row - r, col - c)}\n",
    "            for ind in new_indexes_to_visit:\n",
    "                indexes_to_visit.add(ind)\n",
    "    return indexes_to_visit"
   ]
  },
  {
   "cell_type": "code",
   "execution_count": 3,
   "id": "2cca982e-eb92-4771-a142-27f6c8d2b27b",
   "metadata": {},
   "outputs": [],
   "source": [
    "def binatodeci(binary):\n",
    "    # taken from https://stackoverflow.com/questions/64391524/python-converting-binary-list-to-decimal\n",
    "    return sum(val*(2**idx) for idx, val in enumerate(reversed(binary)))\n",
    "\n",
    "def get_pixel_description_as_one_number(image, indexes_to_visit, row, col):\n",
    "    central_val = image[row, col] # recent pixel value\n",
    "    other_vals = [image[r_i, c_i] for r_i, c_i in sorted(list(indexes_to_visit))]\n",
    "\n",
    "    res_bin = [1 if central_val >= x else 0 for x in other_vals]\n",
    "    \n",
    "    return binatodeci(res_bin)    "
   ]
  },
  {
   "cell_type": "code",
   "execution_count": 4,
   "id": "a535a5cc-3830-4c54-ac32-530f87cbdfe0",
   "metadata": {},
   "outputs": [],
   "source": [
    "def descriptors_final_processing_plain_flatting(image_desc):\n",
    "    return np.concatenate(image_desc)"
   ]
  },
  {
   "cell_type": "markdown",
   "id": "0acdc531-30a4-4c27-a8ae-c2bee4f6a26e",
   "metadata": {},
   "source": [
    "There is one full running example, runned with one testing image\n",
    "TODO - add image from new data, this one is from homework 1"
   ]
  },
  {
   "cell_type": "code",
   "execution_count": 5,
   "id": "c639acef-bd73-45a7-bef7-b85577969a08",
   "metadata": {},
   "outputs": [],
   "source": [
    "from PIL import Image\n",
    "# load image and convert it to gray scale and a shape 128x128 \n",
    "img = Image.open(\"test_img.png\").convert('L')\n",
    "img = img.resize((128, 128))\n",
    "img = np.array(img)"
   ]
  },
  {
   "cell_type": "code",
   "execution_count": 6,
   "id": "4651b9df-559c-4f1f-a846-d32cbb448b61",
   "metadata": {},
   "outputs": [],
   "source": [
    "test_lbp = LBP(neighbor_collection_full_square, get_pixel_description_as_one_number, descriptors_final_processing_plain_flatting)\n",
    "feature_vector = test_lbp.get_feature_vector(img, 1, 0)"
   ]
  },
  {
   "cell_type": "markdown",
   "id": "df19bdf1-7ef3-4929-8bcf-5ac0ae0e981a",
   "metadata": {},
   "source": [
    "You can also take a look how the visualized feature vector converted back to 2D array-like structure looks. Please note that the visulization of feature vector may fail for some setups, as the math.sqrt(feature_vector_length) must result in integer, for the reshape to be possible."
   ]
  },
  {
   "cell_type": "code",
   "execution_count": 7,
   "id": "ff66ae71-8a02-4b0f-8f3c-e33a08da6186",
   "metadata": {},
   "outputs": [
    {
     "data": {
      "image/png": "[encoded data removed]",
      "text/plain": [
       "<Figure size 432x288 with 1 Axes>"
      ]
     },
     "metadata": {
      "needs_background": "light"
     },
     "output_type": "display_data"
    }
   ],
   "source": [
    "import math\n",
    "from matplotlib import pyplot as plt\n",
    "descriptor_2D = feature_vector.reshape((int(math.sqrt(feature_vector.shape[0])), int(math.sqrt(feature_vector.shape[0]))))\n",
    "# visu img\n",
    "plt.imshow(descriptor_2D)\n",
    "plt.show()"
   ]
  },
  {
   "cell_type": "code",
   "execution_count": null,
   "id": "3746d8da-5c10-4dea-ac9e-641246342043",
   "metadata": {},
   "outputs": [],
   "source": []
  }
 ],
 "metadata": {
  "kernelspec": {
   "display_name": "Python 3",
   "language": "python",
   "name": "python3"
  },
  "language_info": {
   "codemirror_mode": {
    "name": "ipython",
    "version": 3
   },
   "file_extension": ".py",
   "mimetype": "text/x-python",
   "name": "python",
   "nbconvert_exporter": "python",
   "pygments_lexer": "ipython3",
   "version": "3.8.8"
  }
 },
 "nbformat": 4,
 "nbformat_minor": 5
}
