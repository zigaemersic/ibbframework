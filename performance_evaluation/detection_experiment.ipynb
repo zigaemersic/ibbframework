{
 "cells": [
  {
   "cell_type": "markdown",
   "metadata": {},
   "source": [
    "# Detection experiment:\n",
    "\n",
    "By Catarina Fernandes\n",
    "\n",
    "Detection experiment:\n",
    "- input (2):  array of predicted bounding-boxes, array of ground-truth bounding-boxes\n",
    "- output (3): mIoU, precision, recall, pixel-wise accuracy"
   ]
  },
  {
   "cell_type": "code",
   "execution_count": 1,
   "metadata": {},
   "outputs": [],
   "source": [
    "import numpy as np \n",
    "from sklearn import metrics\n",
    "from matplotlib import pyplot as plt"
   ]
  },
  {
   "cell_type": "code",
   "execution_count": 12,
   "metadata": {},
   "outputs": [],
   "source": [
    "class DetectionExperiment():\n",
    "    \n",
    "    def __init__(self, predictions_array, ground_truths_array):       \n",
    "        if predictions_array.shape[0] != ground_truths_array.shape[0]:\n",
    "            raise ValueError(\"The predicted bounding boxes and ground truth arrays should have the same dimension.\")\n",
    "\n",
    "        if predictions_array.shape[1] != 4:\n",
    "            raise ValueError(f\"The predicted bounding boxes array should have dimension 4 (x, y, w, h). Instead it has dimension {ground_truths_array.shape[1]}.\")\n",
    "\n",
    "        if ground_truths_array.shape[1] != 4:\n",
    "            raise ValueError(f\"The ground truth array should have dimension 4 (x, y, w, h). Instead it has dimension {ground_truths_array.shape[1]}.\")\n",
    "\n",
    "        if not ((0 <= predictions_array) & (predictions_array <= 1)).all():\n",
    "            raise ValueError(\"The values in the predicted bounding boxes array should be between 0 and 1.\")\n",
    "\n",
    "        if not ((0 <= ground_truths_array) & (ground_truths_array <= 1)).all():\n",
    "            raise ValueError(\"The values in the ground truth array should be between 0 and 1.\")\n",
    "\n",
    "        self.predictions_array = predictions_array\n",
    "        self.ground_truths_array = ground_truths_array\n",
    "\n",
    "    def compute(self):\n",
    "        self.IoU = []\n",
    "        self.accuracy = []\n",
    "\n",
    "        # Iterates through the array of predicted bounding boxes and calculates the IoU and accuracy \n",
    "        for index, values in enumerate(self.predictions_array):\n",
    "            # IoU calculation\n",
    "            IoU_bbox = self.compute_IoU(index, values)\n",
    "            self.IoU.append(IoU_bbox)\n",
    "            # Accuracy calculation\n",
    "            accuracy_bbox = self.compute_accuracy(index, values)\n",
    "            self.accuracy.append(np.mean(accuracy_bbox))\n",
    "            \n",
    "        mIoU = np.mean(self.IoU)\n",
    "        mAccuracy = np.mean(self.accuracy)\n",
    "        \n",
    "        self.compute_precision_recall()\n",
    "\n",
    "        return (mIoU, mAccuracy)\n",
    "    \n",
    "    def compute_IoU(self, index, values):\n",
    "        # Computes the IoU of one bounding box\n",
    "        if values[0] == 0:\n",
    "            intersection_area = 0\n",
    "        else:\n",
    "            intersection_area = max(0, -abs(self.predictions_array[index][0] - self.ground_truths_array[index][1]) + 1) * max(0, -abs(self.predictions_array[index][1] - self.ground_truths_array[index][2]) + 1)\n",
    "\n",
    "        if self.predictions_array[index][0] == 0:\n",
    "            union_area = 2\n",
    "        else:\n",
    "            union_area = 2-intersection_area\n",
    "\n",
    "        IoU = intersection_area/union_area\n",
    "\n",
    "        return IoU\n",
    "\n",
    "    def compute_accuracy(self, index, values):\n",
    "        # Computes the accuracy of one bounding box\n",
    "        accuracies = []\n",
    "        for i, v in enumerate(values):\n",
    "            if v != 0:\n",
    "                intermediate_accuracy = 1-abs(v-self.ground_truths_array[index][i])\n",
    "            else:\n",
    "                intermediate_accuracy = 0\n",
    "            accuracies.append(intermediate_accuracy)\n",
    "\n",
    "        return accuracies\n",
    "\n",
    "    def compute_precision_recall(self):\n",
    "        # Computes the precision-recall curve\n",
    "        precisions = []\n",
    "        for t in range(99):\n",
    "            threshold = (t+1)/100\n",
    "            precisions.append(len([i for i in self.IoU if i > threshold])/len(self.IoU))\n",
    "\n",
    "        fig, ax = plt.subplots()\n",
    "        fig.canvas.draw()\n",
    "        plt.plot(precisions)\n",
    "        plt.title(\"Precision-Recall Curve\")\n",
    "        plt.xlabel('Recall')\n",
    "        plt.ylabel('Precision')\n",
    "        labels = [0,0,0.2,0.4,0.6,0.8,1]\n",
    "        ax.set_xticklabels(labels)\n",
    "        plt.show()    \n",
    "    \n",
    "    @staticmethod\n",
    "    def help(): \n",
    "        print(\"Detection Experiment Usage:\\n Define DetectionExperiment instance by creating a variable and assigning it to DetectionExperiment(predictions, ground_thruth).\\n   - Parameter predictions should be an array of predicted bounding-boxes (x, y, width, height) with dimension M X 4 . \\n   - Parameter ground_truth should be an array of ground truth bounding-boxes (x, y, width, height) with dimension M X 4. \\n\\n After instancing a variable DetectionExperiment var, the method compute(self) can be called simply by running \\\"var.compute()\\\" which will return mIoU, precision-recall and pixel-wise accuracy\")\n"
   ]
  },
  {
   "cell_type": "code",
   "execution_count": 7,
   "metadata": {},
   "outputs": [],
   "source": [
    "ground_truth = np.array([[0.425, 0.5852, 0.1333, 0.2111],[0.2592, 0.4704, 0.115, 0.1975],[0.9131, 0.4837, 0.1406, 0.2565]])\n",
    "predictions = np.array([[0.3826,0.5018, 0.0798, 0.1778], [0.5425, 0.6442, 0.0283, 0.0475], [0.8691, 0.3619, 0.0986, 0.2201]])"
   ]
  },
  {
   "cell_type": "code",
   "execution_count": 10,
   "metadata": {},
   "outputs": [
    {
     "name": "stdout",
     "output_type": "stream",
     "text": [
      "Detection Experiment Usage:\n",
      " Define DetectionExperiment instance by creating a variable and assigning it to DetectionExperiment(predictions, ground_thruth).\n",
      "   - Parameter predictions should be an array of predicted bounding-boxes (x, y, width, height) with dimension M X 4 . \n",
      "   - Parameter ground_truth should be an array of ground truth bounding-boxes (x, y, width, height) with dimension M X 4. \n",
      "\n",
      " After instancing a variable DetectionExperiment var, the method compute(self) can be called simply by running \"var.compute()\" which will return mIoU, precision-recall and pixel-wise accuracy\n"
     ]
    }
   ],
   "source": [
    "DetectionExperiment.help()"
   ]
  },
  {
   "cell_type": "code",
   "execution_count": 13,
   "metadata": {},
   "outputs": [
    {
     "name": "stderr",
     "output_type": "stream",
     "text": [
      "<ipython-input-12-2beb9d2d3181>:81: UserWarning: FixedFormatter should only be used together with FixedLocator\n",
      "  ax.set_xticklabels(labels)\n"
     ]
    },
    {
     "data": {
      "image/png": "[encoded data removed]",
      "text/plain": [
       "<Figure size 432x288 with 1 Axes>"
      ]
     },
     "metadata": {
      "needs_background": "light"
     },
     "output_type": "display_data"
    },
    {
     "data": {
      "text/plain": [
       "(0.31018163172940927, 0.9041166666666668)"
      ]
     },
     "execution_count": 13,
     "metadata": {},
     "output_type": "execute_result"
    }
   ],
   "source": [
    "test = DetectionExperiment(predictions, ground_truth)\n",
    "test.compute()"
   ]
  }
 ],
 "metadata": {
  "kernelspec": {
   "display_name": "base",
   "language": "python",
   "name": "python3"
  },
  "language_info": {
   "codemirror_mode": {
    "name": "ipython",
    "version": 3
   },
   "file_extension": ".py",
   "mimetype": "text/x-python",
   "name": "python",
   "nbconvert_exporter": "python",
   "pygments_lexer": "ipython3",
   "version": "3.8.8"
  },
  "orig_nbformat": 4,
  "vscode": {
   "interpreter": {
    "hash": "4fcfa26c52f17e4de6d75c06366f2bd56da70157074da99079e7df3021447de2"
   }
  }
 },
 "nbformat": 4,
 "nbformat_minor": 2
}
