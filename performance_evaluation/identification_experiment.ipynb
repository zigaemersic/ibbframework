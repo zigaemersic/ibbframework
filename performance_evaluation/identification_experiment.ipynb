{
 "cells": [
  {
   "attachments": {},
   "cell_type": "markdown",
   "metadata": {},
   "source": [
    "# Identification experiment\n",
    "by Catarina Fernandes\n",
    "\n",
    "Identification experiment:\n",
    "- input (1):  M x M diagonally symmetric matrix of distances, 1 x M vector of labels (ground truth)\n",
    "- output (2): C vector of ranks, CMC (vector plot)"
   ]
  },
  {
   "cell_type": "code",
   "execution_count": 1,
   "metadata": {},
   "outputs": [],
   "source": [
    "import numpy as np \n",
    "from sklearn import metrics\n",
    "from matplotlib import pyplot as plt"
   ]
  },
  {
   "cell_type": "code",
   "execution_count": 125,
   "metadata": {},
   "outputs": [],
   "source": [
    "class IdentificationExperiment():\n",
    "    \n",
    "    def __init__(self, distances_matrix, ground_truth):\n",
    "        if distances_matrix.shape[0] != distances_matrix.shape[1]:\n",
    "            raise ValueError(f\"The Distances Matrix dimension should be M x M, instead it is {distances_matrix.shape[0]} x {distances_matrix.shape[1]}\")\n",
    "        \n",
    "        if distances_matrix.shape[0] != len(ground_truth) or ground_truth.ndim != 1:\n",
    "            raise ValueError(f\"The Ground Truth Array should have 1 x {distances_matrix.shape[0]} dimension, instead it has {ground_truth.ndim} x {len(ground_truth)}.\")\n",
    "\n",
    "        if not ((0 <= distances_matrix) & (distances_matrix <= 1)).all():\n",
    "            raise ValueError(\"The values in the Distances Matrix should be between 0 and 1.\")\n",
    "\n",
    "        if not np.allclose(distances_matrix, distances_matrix.T):\n",
    "            raise ValueError(\"The Distances Matrix should be symetric.\")\n",
    "        \n",
    "        self.distances_matrix = distances_matrix\n",
    "        self.ground_truth = ground_truth\n",
    "\n",
    "\n",
    "    def compute(self):\n",
    "        results_matrix = np.array(self.get_identification_results())\n",
    "        intermediate_vector_of_ranks = np.mean(results_matrix, axis=0)\n",
    "        c_vector_of_ranks = np.cumsum(intermediate_vector_of_ranks)\n",
    "        rank_list = [1,2,3,5,10,15,20]\n",
    "\n",
    "        self.plot_cmc(c_vector_of_ranks[:20], rank_list)\n",
    "\n",
    "        return c_vector_of_ranks\n",
    "\n",
    "    def plot_cmc(self, c_vector_of_ranks, rank_list):\n",
    "        plt.plot(c_vector_of_ranks, marker=\".\",color='orange', label='C vector of ranks')   \n",
    "        plt.title('Cumulative Matching Characteristic')\n",
    "        plt.xlabel('Ranks 1 to 20')\n",
    "        plt.ylabel('Rank score')\n",
    "        plt.legend(loc='lower right')\n",
    "        plt.ylim(bottom=0)\n",
    "        list_x_axis = list(range(1, len(c_vector_of_ranks)+1))\n",
    "        rank_list_x_axis = [\"R\" + str(num) if num in rank_list else \" \" for num in list_x_axis]\n",
    "        plt.xticks(np.arange(0, len(self.unique_classes), 1), rank_list_x_axis)\n",
    "        plt.show()\n",
    "\n",
    "\n",
    "    def get_identification_results(self):\n",
    "        self.unique_classes = np.unique(self.ground_truth)\n",
    "        identification_matrix = [] # Each row is a list of 1s and 0s, 1 if the class matches the ground truth, 0 otherwise\n",
    "\n",
    "        for r_index, r_value in enumerate(self.distances_matrix):\n",
    "            class_percentages = [] # Averages of each class in each row\n",
    "            class_percentage = [] # Each class item in a certain row\n",
    "            current_class = self.unique_classes[0] # Keeps track of the current class for the class averages calculation\n",
    "\n",
    "            for c_index, c_value in enumerate(r_value):\n",
    "                if current_class == self.ground_truth[c_index]: # Same class, continue average\n",
    "                    if c_index != len(self.ground_truth)-1: # Not last column\n",
    "                        if r_index != c_index: # If not comparing the same entry\n",
    "                            class_percentage.append(self.distances_matrix[r_index][c_index])\n",
    "\n",
    "                    else: # Last column\n",
    "                        # Finalize row process\n",
    "                        if r_index != c_index:\n",
    "                            class_percentage.append(self.distances_matrix[r_index][c_index])\n",
    "\n",
    "                        # Calculate average of last class\n",
    "                        class_percentages.append((np.mean(np.array(class_percentage)), self.ground_truth[c_index]))\n",
    "\n",
    "                        # Last cell of a certain row -> update current class to the first\n",
    "                        current_class = self.unique_classes[0]\n",
    "\n",
    "                else: # Different class, compute new average\n",
    "                    if c_index != len(self.ground_truth)-1: # Not last column \n",
    "                        # Store average of previous class\n",
    "                        class_percentages.append((np.mean(np.array(class_percentage)), self.ground_truth[c_index-1]))\n",
    "                        \n",
    "                        # Update current class\n",
    "                        current_class = self.ground_truth[c_index] \n",
    "\n",
    "                        # Start average calculation of current class\n",
    "                        class_percentage = []\n",
    "                        if r_index != c_index:\n",
    "                            class_percentage.append(self.distances_matrix[r_index][c_index])\n",
    "                    # Last column doesn't matter if we have more than 1 entry of each class\n",
    "                    # The first entry of a class would never be the last entry of a class\n",
    "\n",
    "            # Sort class averages\n",
    "            identification_results = sorted(class_percentages, reverse=True)\n",
    "\n",
    "            # Replace tuple(average, class) by 0 and 1, 1 if the class matches the ground truth, 0 otherwise\n",
    "            for i, item in enumerate(identification_results):\n",
    "                if item[1] == self.ground_truth[r_index]:\n",
    "                    identification_results[i] = 1\n",
    "                else:\n",
    "                    identification_results[i] = 0\n",
    "\n",
    "            # Add list of 0 and 1s to identification matrix\n",
    "            identification_matrix.append(identification_results)\n",
    "\n",
    "        return identification_matrix\n",
    "        \n",
    "    @staticmethod\n",
    "    def help(): \n",
    "        print(\"Identification Experiment Usage:\\n Define IdentificationExperiment instance by creating a variable and assigning it to IdentificationExperiment(distance_matrix, ground_truth).\\n   - Parameter distance_matrix should be a MxM array containing the distances between all M images. The values in the array should be between 0 and 1 and indicate the similarity between each image.\\n   - Parameter ground_truth should be a 1xM array containing the classes of each image.\\n\\n After instancing a variable IdentificationExperiment var, the method compute(self) can be called simply by running \\\"var.compute()\\\" which will return the C vector of ranks and plot the CMC curve.\")\n"
   ]
  },
  {
   "cell_type": "code",
   "execution_count": 126,
   "metadata": {},
   "outputs": [
    {
     "name": "stdout",
     "output_type": "stream",
     "text": [
      "Identification Experiment Usage:\n",
      " Define IdentificationExperiment instance by creating a variable and assigning it to IdentificationExperiment(distance_matrix, ground_truth).\n",
      "   - Parameter distance_matrix should be a MxM array containing the distances between all M images. The values in the array should be between 0 and 1 and indicate the similarity between each image.\n",
      "   - Parameter ground_truth should be a 1xM array containing the classes of each image.\n",
      "\n",
      " After instancing a variable IdentificationExperiment var, the method compute(self) can be called simply by running \"var.compute()\" which will return the C vector of ranks and plot the CMC curve.\n"
     ]
    }
   ],
   "source": [
    "IdentificationExperiment.help()"
   ]
  },
  {
   "cell_type": "code",
   "execution_count": 119,
   "metadata": {},
   "outputs": [
    {
     "data": {
      "image/png": "[encoded data removed]",
      "text/plain": [
       "<Figure size 640x480 with 1 Axes>"
      ]
     },
     "metadata": {},
     "output_type": "display_data"
    },
    {
     "data": {
      "text/plain": [
       "array([0.5       , 0.66666667, 1.        ])"
      ]
     },
     "execution_count": 119,
     "metadata": {},
     "output_type": "execute_result"
    }
   ],
   "source": [
    "distances_matrix = np.array([[1,0.9,0.3,0.1,0.2,0.1],[0.9,1,0.7,0.3,0.4,0.3],[0.3,0.7,1,0.1,0.8,0.1],[0.1,0.3,0.1,1,0.2,0.3],[0.2,0.4,0.8,0.2,1,0.4],[0.1,0.3,0.1,0.3,0.4,1]])\n",
    "ground_truth = np.array([\"A\", \"A\", \"B\",\"B\",\"C\",\"C\"])\n",
    "\n",
    "#  A   A   B   B   C   C\n",
    "#A 1   0.9 0.3 0.1 0.2 0.1\n",
    "#A 0.9 1   0.7 0.3 0.4 0.3\n",
    "#B 0.3 0.7 1   0.1 0.8 0.1\n",
    "#B 0.1 0.3 0.1 1   0.2 0.3\n",
    "#C 0.2 0.4 0.8 0.2 1   0.4\n",
    "#C 0.1 0.3 0.1 0.3 0.4 1\n",
    "\n",
    "\n",
    "# distances_matrix = generate_test_dist_matrix()\n",
    "# ground_truth = np.array([\"A\",\"A\",\"A\", \"A\",\"B\",\"B\",\"B\",\"B\",\"C\",\"C\",\"C\",\"C\",\"D\",\"D\",\"D\",\"D\",\"E\",\"E\",\"E\",\"E\"])\n",
    "# ground_truth = np.array([\"A\",\"A\",\"B\",\"B\",\"C\",\"C\",\"D\",\"D\",\"E\",\"E\",\"F\",\"F\",\"G\",\"G\",\"H\",\"H\",\"I\",\"I\",\"J\",\"J\"])\n",
    "\n",
    "test = IdentificationExperiment(distances_matrix, ground_truth)\n",
    "test.compute()"
   ]
  },
  {
   "cell_type": "markdown",
   "metadata": {},
   "source": [
    "### Auxiliar functions"
   ]
  },
  {
   "cell_type": "code",
   "execution_count": 113,
   "metadata": {},
   "outputs": [],
   "source": [
    "def generate_test_dist_matrix():\n",
    "    N = 20\n",
    "    b = np.random.randint(0,100,size=(N,N))\n",
    "    b_symm = (b + b.T)/2\n",
    "    b_symm = b_symm / 100\n",
    "    diag = np.full((1, 100), 1)\n",
    "\n",
    "    for row_index, row in enumerate(b_symm):\n",
    "        for col_index, col in enumerate(row):\n",
    "            if row_index == col_index:\n",
    "                b_symm[row_index][col_index] = 1\n",
    "            else:\n",
    "                b_symm[row_index][col_index] = col\n",
    "\n",
    "    return b_symm"
   ]
  }
 ],
 "metadata": {
  "kernelspec": {
   "display_name": "base",
   "language": "python",
   "name": "python3"
  },
  "language_info": {
   "codemirror_mode": {
    "name": "ipython",
    "version": 3
   },
   "file_extension": ".py",
   "mimetype": "text/x-python",
   "name": "python",
   "nbconvert_exporter": "python",
   "pygments_lexer": "ipython3",
   "version": "3.8.8"
  },
  "orig_nbformat": 4,
  "vscode": {
   "interpreter": {
    "hash": "4fcfa26c52f17e4de6d75c06366f2bd56da70157074da99079e7df3021447de2"
   }
  }
 },
 "nbformat": 4,
 "nbformat_minor": 2
}
