{
 "cells": [
  {
   "attachments": {},
   "cell_type": "markdown",
   "metadata": {},
   "source": [
    "# Verification experiment\n",
    "\n",
    "by Catarina Fernandes\n",
    "\n",
    "\n",
    "- input (2):  M x M diagonally symmetric matrix of distances, 1 x M vector of labels (ground truth)\n",
    "- output (4): Equal error rate, AUC (ROC), Verification @ 0.1% false acceptance rate, ROC (vector plot)\n"
   ]
  },
  {
   "cell_type": "code",
   "execution_count": 3,
   "metadata": {},
   "outputs": [],
   "source": [
    "import numpy as np \n",
    "from sklearn import metrics\n",
    "from matplotlib import pyplot as plt"
   ]
  },
  {
   "cell_type": "code",
   "execution_count": 27,
   "metadata": {},
   "outputs": [],
   "source": [
    "class VerificationExperiment():\n",
    "    \n",
    "    def __init__(self, distances_matrix, ground_truth):\n",
    "        if distances_matrix.shape[0] != distances_matrix.shape[1]:\n",
    "            raise ValueError(f\"The Distances Matrix dimension should be M x M, instead it is {distances_matrix.shape[0]} x {distances_matrix.shape[1]}\")\n",
    "        \n",
    "        if distances_matrix.shape[0] != len(ground_truth) or ground_truth.ndim != 1:\n",
    "            raise ValueError(f\"The Ground Truth Array should have 1 x {distances_matrix.shape[0]} dimension, instead it has {ground_truth.ndim} x {len(ground_truth)}.\")\n",
    "\n",
    "        if not ((0 <= distances_matrix) & (distances_matrix <= 1)).all():\n",
    "            raise ValueError(\"The values in the Distances Matrix should be between 0 and 1.\")\n",
    "\n",
    "        if not np.allclose(distances_matrix, distances_matrix.T):\n",
    "            raise ValueError(\"The Distances Matrix should be symetric.\")\n",
    "        \n",
    "        self.distances_matrix = distances_matrix\n",
    "        self.ground_truth = ground_truth\n",
    "\n",
    "\n",
    "    def build_gt_and_pred_matrixes(self, threshold):\n",
    "        gt_matrix = np.zeros(self.distances_matrix.shape)\n",
    "        classification_matrix = np.zeros(self.distances_matrix.shape)\n",
    "\n",
    "        for i in range(self.distances_matrix.shape[0]):\n",
    "            for j in range(i, self.distances_matrix.shape[1]):\n",
    "                # Same class\n",
    "                if self.ground_truth[i] == self.ground_truth[j]:  \n",
    "                    gt_matrix[i][j] = 1\n",
    "                    gt_matrix[j][i] = 1\n",
    "                    if(self.distances_matrix[i][j] >= threshold): # True if bigger than threshold -> accurate classification (ex: A = A)\n",
    "                        classification_matrix[i][j] = 1 \n",
    "                        classification_matrix[j][i] = 1\n",
    "                    else: # False if smaller than threshold -> inaccurate classification (ex: A != A)\n",
    "                        classification_matrix[i][j] = 0\n",
    "                        classification_matrix[j][i] = 0\n",
    "                # Different class\n",
    "                else: \n",
    "                    gt_matrix[i][j] = 0\n",
    "                    gt_matrix[j][i] = 0\n",
    "                    if(self.distances_matrix[i][j] >= threshold): # False if bigger than threshold -> inaccurate classification (ex: A = B)\n",
    "                        classification_matrix[i][j] = 0 \n",
    "                        classification_matrix[j][i] = 0\n",
    "                    else: # True if smaller than threshold -> accurate classification (ex: A != B)\n",
    "                        classification_matrix[i][j] = 1 \n",
    "                        classification_matrix[j][i] = 1 \n",
    "\n",
    "        return gt_matrix, classification_matrix\n",
    "\n",
    "\n",
    "    def compute(self):\n",
    "        gt_matrix, classification_matrix = self.build_gt_and_pred_matrixes(0.5) # let's assume threshold = 0.5\n",
    "\n",
    "        # AUC (ROC)\n",
    "        fpr, tpr, _ = metrics.roc_curve(np.ravel(gt_matrix), np.ravel(self.distances_matrix), pos_label=1)\n",
    "        auc = metrics.auc(fpr, tpr)\n",
    "        fnr = 1 - tpr\n",
    "\n",
    "        # Equal error rate\n",
    "        # theoretically eer from fpr and fnr should be identical but they can slightly differ in reality\n",
    "        eer_1 = fpr[np.nanargmin(np.absolute((fnr - fpr)))]\n",
    "        eer_2 = fnr[np.nanargmin(np.absolute((fnr - fpr)))]\n",
    "        eer = (eer_1 + eer_2) / 2\n",
    "\n",
    "        # Verification @ 0.1% false acceptance rate  \n",
    "        verification = np.interp(0.001, fpr, tpr)\n",
    "\n",
    "        # plotting ROC curve\n",
    "        plt.plot(fpr, tpr, marker=\".\",color='orange', label='ROC (AUC = %0.3f)' % auc)   \n",
    "        plt.title('Receiver Operating Characteristic')\n",
    "        plt.xlabel('False Positive Rate')\n",
    "        plt.ylabel('True Positive Rate')\n",
    "        plt.legend(loc='lower right')\n",
    "        plt.show()\n",
    "\n",
    "        return (eer, auc, verification)\n",
    "\n",
    "    def help(self): \n",
    "        print(\"Verification Experiment:\\n Define VerificationExperiment instance by creating a variable and assigning it to VerificationExperiment(matrix_of_distances, ground_truth).\\n   - Parameter matrix_of_distances should be a MxM array containing the distances between all M images. The values in the array should be between 0 and 1 and indicate the similarity between each image. \\n   - Parameter ground_truth should be a 1xM array containing the classes of each image. \\n\\n After instancing a variable VerificationExperiment var, the method compute(self) can be called simply by running \\\"var.compute()\\\" which will return:\\n - Equal error rate\\n - AUC (ROC)\\n - Verification @ 0.1% false acceptance rate\\n - ROC (vector plot)\")\n"
   ]
  },
  {
   "cell_type": "markdown",
   "metadata": {},
   "source": [
    "### Example"
   ]
  },
  {
   "cell_type": "code",
   "execution_count": 28,
   "metadata": {},
   "outputs": [],
   "source": [
    "distances_matrix = np.array([[1,0.9,0.3,0.1,0.2],[0.9,1,0.7,0.3,0.4],[0.3,0.7,1,0.1,0.8],[0.1,0.3,0.1,1,0.2],[0.2,0.4,0.8,0.2,1]])\n",
    "ground_truth = np.array([\"A\", \"A\", \"B\",\"B\",\"C\"])\n",
    "\n",
    "#  A   A   B   B   C\n",
    "#A 1   0.9 0.3 0.1 0.2\n",
    "#A 0.9 1   0.7 0.3 0.4\n",
    "#B 0.3 0.7 1   0.1 0.8\n",
    "#B 0.1 0.3 0.1 1   0.2\n",
    "#C 0.2 0.4 0.8 0.2 1"
   ]
  },
  {
   "cell_type": "code",
   "execution_count": 29,
   "metadata": {},
   "outputs": [
    {
     "name": "stdout",
     "output_type": "stream",
     "text": [
      "Verification Experiment:\n",
      " Define VerificationExperiment instance by creating a variable and assigning it to VerificationExperiment(matrix_of_distances, ground_truth).\n",
      "   - Parameter matrix_of_distances should be a MxM array containing the distances between all M images. The values in the array should be between 0 and 1 and indicate the similarity between each image. \n",
      "   - Parameter ground_truth should be a 1xM array containing the classes of each image. \n",
      "\n",
      " After instancing a variable VerificationExperiment var, the method compute(self) can be called simply by running \"var.compute()\" which will return:\n",
      " - Equal error rate\n",
      " - AUC (ROC)\n",
      " - Verification @ 0.1% false acceptance rate\n",
      " - ROC (vector plot)\n"
     ]
    }
   ],
   "source": [
    "test = VerificationExperiment(distances_matrix, ground_truth)\n",
    "test.help()"
   ]
  },
  {
   "cell_type": "code",
   "execution_count": 30,
   "metadata": {},
   "outputs": [
    {
     "data": {
      "image/png": "[encoded data removed]",
      "text/plain": [
       "<Figure size 432x288 with 1 Axes>"
      ]
     },
     "metadata": {
      "needs_background": "light"
     },
     "output_type": "display_data"
    },
    {
     "data": {
      "text/plain": [
       "(0.2986111111111111, 0.7916666666666667, 0.7777777777777778)"
      ]
     },
     "execution_count": 30,
     "metadata": {},
     "output_type": "execute_result"
    }
   ],
   "source": [
    "test.compute()"
   ]
  }
 ],
 "metadata": {
  "kernelspec": {
   "display_name": "Python 3.8.8 ('base')",
   "language": "python",
   "name": "python3"
  },
  "language_info": {
   "codemirror_mode": {
    "name": "ipython",
    "version": 3
   },
   "file_extension": ".py",
   "mimetype": "text/x-python",
   "name": "python",
   "nbconvert_exporter": "python",
   "pygments_lexer": "ipython3",
   "version": "3.8.8"
  },
  "orig_nbformat": 4,
  "vscode": {
   "interpreter": {
    "hash": "4fcfa26c52f17e4de6d75c06366f2bd56da70157074da99079e7df3021447de2"
   }
  }
 },
 "nbformat": 4,
 "nbformat_minor": 2
}
