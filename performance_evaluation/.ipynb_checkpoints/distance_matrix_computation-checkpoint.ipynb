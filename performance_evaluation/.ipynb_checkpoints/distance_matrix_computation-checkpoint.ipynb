{
 "cells": [
  {
   "cell_type": "markdown",
   "metadata": {},
   "source": [
    "# Distance Matrix Computation\n",
    "\n",
    "by Flávia Carvalhido\n",
    "\n",
    "\n",
    "- input (2):  M x N matrix of feature vectors, distance measure\n",
    "- output (1): M x M diagonally symmetric matrix of distances between all the vectors\n"
   ]
  },
  {
   "cell_type": "code",
   "execution_count": 47,
   "metadata": {},
   "outputs": [],
   "source": [
    "import numpy as np \n",
    "from sklearn.metrics.pairwise import cosine_distances\n",
    "\n",
    "class DistanceMatrixComputation:\n",
    "    \n",
    "    def __init__(self, feature_vectors=None, distance_measure=0):\n",
    "        distance_values = [\"euclidean\", \"cosine\"]\n",
    "        self.feature_vectors = feature_vectors\n",
    "        \n",
    "        if distance_measure in distance_values:\n",
    "            self.distance_measure = distance_measure\n",
    "\n",
    "        elif distance_measure in [0,1]: \n",
    "            self.distance_measure = distance_values[distance_measure]\n",
    "\n",
    "        else: \n",
    "            raise ValueError(\"Distance Measure can only have the following values: \\\"euclidean\\\"(0) or \\\"cosine\\\"(1)\")\n",
    "\n",
    "\n",
    "    def compute(self):\n",
    "        mat = []\n",
    "\n",
    "        if self.distance_measure == \"euclidean\": \n",
    "            print(\"Computing Euclidean Distance Matrix\")\n",
    "            for vec in self.feature_vectors:\n",
    "                mat.append(np.array([np.linalg.norm(vec - b) for b in self.feature_vectors]))\n",
    "          \n",
    "        elif self.distance_measure == \"cosine\":\n",
    "            print(\"Computing Cosine Distance Matrix\")\n",
    "            for vec in self.feature_vectors:\n",
    "                mat.append(np.array([cosine_distances([vec], [b])[0][0] for b in self.feature_vectors])) # FIXME: how to avoid indexing the results obtained from cosine_distances. Maybe use another function not adapted to multiple samples?\n",
    "\n",
    "        return np.array(mat)\n",
    "\n",
    "    def help(self): \n",
    "        print(\"Distance Matric Computation Usage:\\n Define DistanceMatrixComputation instance by creating a variable and assigning it to DistanceMatrixComputation(feature_vectors, distance_measure).\\n   - Parameter feature_vectors should be a MxN array containing all M feature_vectors with dimension N. \\n   - Parameter distance_measure should be either \\\"euclidean\\\" or \\\"cosine\\\". 0 and 1 can also be used to signify euclidean and cosine, respectively. \\n\\n After instancing a variable DistanceMatrixComputation var, the method compute(self) can be called simply by running \\\"var.compute()\\\" which will return a diagonally symmetric distance matrix with dimensions MxM\")\n"
   ]
  },
  {
   "cell_type": "code",
   "execution_count": 43,
   "metadata": {},
   "outputs": [],
   "source": [
    "# example\n",
    "M = [np.array([255,47,98]), np.array([0,250,239]), np.array([0,40,78])]"
   ]
  },
  {
   "cell_type": "code",
   "execution_count": 48,
   "metadata": {},
   "outputs": [
    {
     "name": "stdout",
     "output_type": "stream",
     "text": [
      "Distance Matric Computation Usage:\n",
      " Define DistanceMatrixComputation instance by creating a variable and assigning it to DistanceMatrixComputation(feature_vectors, distance_measure).\n",
      "   - Parameter feature_vectors should be a MxN array containing all M feature_vectors with dimension N. \n",
      "   - Parameter distance_measure should be either \"euclidean\" or \"cosine\". 0 and 1 can also be used to signify euclidean and cosine, respectively. \n",
      "\n",
      " After instancing a variable DistanceMatrixComputation var, the method compute(self) can be called simply by running \"var.compute()\" which will return a diagonally symmetric distance matrix with dimensions MxM\n"
     ]
    }
   ],
   "source": [
    "test_help = DistanceMatrixComputation()\n",
    "test_help.help()"
   ]
  },
  {
   "cell_type": "code",
   "execution_count": 39,
   "metadata": {},
   "outputs": [
    {
     "name": "stdout",
     "output_type": "stream",
     "text": [
      "Computing Euclidean Distance Matrix\n"
     ]
    },
    {
     "data": {
      "text/plain": [
       "array([[  0.        , 355.12673794, 255.8788776 ],\n",
       "       [355.12673794,   0.        , 264.6148144 ],\n",
       "       [255.8788776 , 264.6148144 ,   0.        ]])"
      ]
     },
     "execution_count": 39,
     "metadata": {},
     "output_type": "execute_result"
    }
   ],
   "source": [
    "test_euclidean = DistanceMatrixComputation(M, \"euclidean\")\n",
    "# test_euclidean = DistanceMatrixComputation(M, 0)\n",
    "\n",
    "dist_matrix = test_euclidean.compute()\n",
    "\n",
    "dist_matrix"
   ]
  },
  {
   "cell_type": "code",
   "execution_count": 33,
   "metadata": {},
   "outputs": [
    {
     "name": "stdout",
     "output_type": "stream",
     "text": [
      "Computing Cosine Distance Matrix\n"
     ]
    },
    {
     "data": {
      "text/plain": [
       "array([[0.00000000e+00, 6.33135808e-01, 6.08043670e-01],\n",
       "       [6.33135808e-01, 1.11022302e-16, 5.52738257e-02],\n",
       "       [6.08043670e-01, 5.52738257e-02, 0.00000000e+00]])"
      ]
     },
     "execution_count": 33,
     "metadata": {},
     "output_type": "execute_result"
    }
   ],
   "source": [
    "test_cosine = DistanceMatrixComputation(M, \"cosine\")\n",
    "# test_euclidean = DistanceMatrixComputation(M, 1)\n",
    "\n",
    "dist_matrix = test_cosine.compute()\n",
    "\n",
    "dist_matrix"
   ]
  }
 ],
 "metadata": {
  "kernelspec": {
   "display_name": "Python 3.9.9 64-bit",
   "language": "python",
   "name": "python3"
  },
  "language_info": {
   "codemirror_mode": {
    "name": "ipython",
    "version": 3
   },
   "file_extension": ".py",
   "mimetype": "text/x-python",
   "name": "python",
   "nbconvert_exporter": "python",
   "pygments_lexer": "ipython3",
   "version": "3.9.9"
  },
  "orig_nbformat": 4,
  "vscode": {
   "interpreter": {
    "hash": "0cd1a84c6e748890eba993db88b6a1a54ba5ad1541d2f6351ed40b87eab1cc0f"
   }
  }
 },
 "nbformat": 4,
 "nbformat_minor": 2
}
